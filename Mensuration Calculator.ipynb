{
 "cells": [
  {
   "cell_type": "code",
   "execution_count": 1,
   "metadata": {},
   "outputs": [],
   "source": [
    "#mensuration calc\n",
    "#Circle\n",
    "class Circle():\n",
    "    pi = 3.14\n",
    "    def __init__(self, rad):\n",
    "        self.rad = rad\n",
    "    def area(self):\n",
    "        return self.pi*(self.rad**2)\n",
    "    def circumference(self):\n",
    "        return 2*self.pi*self.rad\n",
    "#Rectangle\n",
    "class Rectangle():\n",
    "    def __init__(self,l,b):\n",
    "        self.l = l\n",
    "        sefl.b = b\n",
    "    def area(self):\n",
    "        return self.l*self.b\n",
    "    def perimeter(self):\n",
    "        return 2*(self.l+self.b)\n",
    "#Square\n",
    "class Square():\n",
    "    def __init__(self,side):\n",
    "        self.side = side\n",
    "    def area(self):\n",
    "        return self.side**2\n",
    "    def perimeter(self):\n",
    "        return 4*self.side\n",
    "#Triangle\n",
    "class Triangle():\n",
    "    def __init__(self,b,h):\n",
    "        self.b = b\n",
    "        self.h = h\n",
    "    def area(self):\n",
    "        return 0.5*self.b*self.h\n",
    "    def perimeter(self,s1 ,s2):\n",
    "        return s1+s2+self.b\n",
    "#Trapezium\n",
    "class Trapezium():\n",
    "    def __init__(self,p1,p2,h):\n",
    "        self.p1 = p1\n",
    "        self.p2 = p2\n",
    "        self.h = h\n",
    "    def area(self):\n",
    "        return 0.5*(self.p1+self.p2)*self.h\n",
    "    def perimeter(self,s1,s2):\n",
    "        return self.p1+self.p2+s1+s2\n",
    "#Sphere    \n",
    "class Sphere():\n",
    "    pi = 3.14\n",
    "    def __init__(self,rad):\n",
    "        self.rad = rad\n",
    "    def volume(self):\n",
    "        return (4*self.pi*(self.rad**3))/3\n",
    "    def SA(self):\n",
    "        return 4*self.pi*(self.rad**2)\n",
    "#Cylinder\n",
    "class Cylinder():\n",
    "    pi = 3.14\n",
    "    def __init__(self,rad,h):\n",
    "        self.rad = rad\n",
    "        self.h = h\n",
    "    def volume(self):\n",
    "        return self.pi*(self.rad**2)*self.h\n",
    "    def CSA(self):\n",
    "        return 2*self.pi*self.rad*self.h\n",
    "    def TSA(self):\n",
    "        return 2*self.pi*self.rad*(self.rad+self.h)\n",
    "#Cone\n",
    "class Cone():\n",
    "    pi = 3.14\n",
    "    def __init__(self,rad,h,l):\n",
    "        self.rad = rad\n",
    "        self.h = h\n",
    "        self.l = (self.rad**2+self.h**2)**0.5\n",
    "    def volume(self):\n",
    "        return (self.pi*(self.rad**2)*self.h)/3\n",
    "    def CSA(self):\n",
    "        return self.pi*self.rad*self.l\n",
    "    def TSA(self):\n",
    "        return self.pi*self.rad(self.rad+self.l)\n",
    "#Hemisphere\n",
    "class Hemisphere():\n",
    "    pi = 3.14\n",
    "    def __init__(self,rad):\n",
    "        self.rad = rad\n",
    "    def volume(self):\n",
    "        return (2*self.pi*(self.rad**3))/3\n",
    "    def CSA(self):\n",
    "        return 2*self.pi*(self.rad**2)\n",
    "    def TSA(self):\n",
    "        return 3*self.pi*(self.rad**2)\n",
    "#Rhombus\n",
    "class Rhombus():\n",
    "    def __init__(self,d1,d2):\n",
    "        self.d1 = d1\n",
    "        self.d2 = d2\n",
    "    def area(self):\n",
    "        return 0.5*self.d1*self.d2\n",
    "    def perimeter(self,side):\n",
    "        return 4*side\n",
    "#Parallelogram\n",
    "class Parallelogram():\n",
    "    def __init__(self,b,h):\n",
    "        self.b = b\n",
    "        self.h = h\n",
    "    def area(self):\n",
    "        return self.b*self.h\n",
    "    def perimeter(self,w):\n",
    "        return 2*(self.b + w)"
   ]
  },
  {
   "cell_type": "code",
   "execution_count": 6,
   "metadata": {},
   "outputs": [],
   "source": [
    "mycircle = Circle(4)"
   ]
  },
  {
   "cell_type": "code",
   "execution_count": 11,
   "metadata": {},
   "outputs": [
    {
     "data": {
      "text/plain": [
       "50.24"
      ]
     },
     "execution_count": 11,
     "metadata": {},
     "output_type": "execute_result"
    }
   ],
   "source": [
    "mycircle.area()"
   ]
  },
  {
   "cell_type": "code",
   "execution_count": null,
   "metadata": {},
   "outputs": [],
   "source": []
  }
 ],
 "metadata": {
  "kernelspec": {
   "display_name": "Python 3",
   "language": "python",
   "name": "python3"
  },
  "language_info": {
   "codemirror_mode": {
    "name": "ipython",
    "version": 3
   },
   "file_extension": ".py",
   "mimetype": "text/x-python",
   "name": "python",
   "nbconvert_exporter": "python",
   "pygments_lexer": "ipython3",
   "version": "3.8.5"
  }
 },
 "nbformat": 4,
 "nbformat_minor": 4
}
